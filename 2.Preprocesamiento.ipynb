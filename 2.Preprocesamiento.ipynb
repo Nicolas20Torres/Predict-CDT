{
 "cells": [
  {
   "cell_type": "markdown",
   "metadata": {},
   "source": [
    "# Preprocesamiento y Normalizacion de los datos\n",
    "\n",
    "- Normalizacion entre 0 y 1 = [Dias_Ultima_Camp,No_Contactos,emp_var_rate,cons_price_idx,cons_conf_idx,euribor3m,nr_employed,Edad]\n",
    "- one-hot encoding = [mora,Vivienda,Consumo,Resultado_Anterior,Tipo_Trabajo,Estado_Civil,Educacion,Contacto]"
   ]
  },
  {
   "cell_type": "code",
   "execution_count": 1,
   "metadata": {},
   "outputs": [],
   "source": [
    "# Importacion de recusos generales\n",
    "import pandas as pd\n",
    "import sqlite3\n",
    "from config.parametros import RutaDataSet as RT\n",
    "# Recursos propios\n",
    "from services.transformaciones import CargaDatos\n",
    "# Preprocesamiento\n",
    "from sklearn.preprocessing import MinMaxScaler"
   ]
  },
  {
   "cell_type": "code",
   "execution_count": 2,
   "metadata": {},
   "outputs": [],
   "source": [
    "# Instancia de conexion a la base de datos SQL\n",
    "conn = sqlite3.connect(RT.DataBase)\n",
    "cursor = conn.cursor()"
   ]
  },
  {
   "cell_type": "code",
   "execution_count": 3,
   "metadata": {},
   "outputs": [],
   "source": [
    "# Join de la tabla Qualitative y Campanas\n",
    "query = \"\"\"\n",
    "    SELECT\n",
    "        c.ID,\n",
    "        c.mora,\n",
    "        c.Vivienda,\n",
    "        c.Consumo,\n",
    "        c.Mes,\n",
    "        c.Dias_Ultima_Camp,\n",
    "        c.No_Contactos,\n",
    "        c.Resultado_Anterior,\n",
    "        c.emp_var_rate,\n",
    "        c.cons_price_idx,\n",
    "        c.cons_conf_idx,\n",
    "        c.euribor3m,\n",
    "        c.nr_employed,\n",
    "        c.y,\n",
    "        q.Edad,\n",
    "        q.Tipo_Trabajo,\n",
    "        q.Estado_Civil,\n",
    "        q.Educacion,\n",
    "        q.Contacto\n",
    "    FROM Campanas AS c\n",
    "    JOIN Qualitative AS q ON c.ID = q.ID\n",
    "    WHERE y IS NOT NULL\n",
    "\"\"\"\n",
    "df = pd.read_sql_query(query,conn)\n",
    "# Nota para el desarrollo de modelo predictivo se descarta los valores en blanco de la columna predictora (y)"
   ]
  },
  {
   "cell_type": "code",
   "execution_count": 4,
   "metadata": {},
   "outputs": [
    {
     "data": {
      "text/plain": [
       "(16170, 19)"
      ]
     },
     "execution_count": 4,
     "metadata": {},
     "output_type": "execute_result"
    }
   ],
   "source": [
    "# Generar una copia de dataset \n",
    "df_original = df.copy()\n",
    "df_original.shape"
   ]
  },
  {
   "cell_type": "code",
   "execution_count": 5,
   "metadata": {},
   "outputs": [],
   "source": [
    "# Definicion de variables\n",
    "list_min_max = [\n",
    "    'Dias_Ultima_Camp',\n",
    "    'No_Contactos',\n",
    "    'emp_var_rate',\n",
    "    'cons_price_idx',\n",
    "    'cons_conf_idx',\n",
    "    'euribor3m',\n",
    "    'nr_employed',\n",
    "    'Edad'\n",
    "]\n",
    "list_get_dummies = [\n",
    "    'mora',\n",
    "    'Vivienda',\n",
    "    'Consumo',\n",
    "    'Mes',\n",
    "    'Resultado_Anterior',\n",
    "    'Tipo_Trabajo',\n",
    "    'Estado_Civil',\n",
    "    'Educacion',\n",
    "    'Contacto'\n",
    "]"
   ]
  },
  {
   "cell_type": "code",
   "execution_count": 6,
   "metadata": {},
   "outputs": [],
   "source": [
    "# Normalizacion de Dataset en columnas especificadas en list_min_max\n",
    "scaler = MinMaxScaler()\n",
    "df[list_min_max] = scaler.fit_transform(df[list_min_max])"
   ]
  },
  {
   "cell_type": "code",
   "execution_count": 7,
   "metadata": {},
   "outputs": [],
   "source": [
    "import warnings\n",
    "warnings.filterwarnings('ignore', category=FutureWarning)\n",
    "# Generar columnas usando metodo one-hot encoding a columnas detalladas en list_get_dummies\n",
    "df_matriz = pd.get_dummies(df,columns=list_get_dummies)\n",
    "col_bool = df_matriz.iloc[:,-50:] \n",
    "df_matriz.iloc[:,-50:] = col_bool.astype(int)\n",
    "df_matriz['mora_si'] = 0"
   ]
  },
  {
   "cell_type": "code",
   "execution_count": 8,
   "metadata": {},
   "outputs": [],
   "source": [
    "# Defincion de variables (x) y (y)\n",
    "X_matriz = df_matriz.drop(columns=['ID','y'],axis=1)\n",
    "y_matriz = df_matriz['y']\n",
    "e_matriz = df_matriz['ID']\n",
    "# Generarar Matricez vectoriales\n",
    "X = X_matriz.to_numpy() # matriz con las variables independientes\n",
    "y = y_matriz.to_numpy() # Matriz con la variables dependiente\n",
    "e = e_matriz.to_numpy() # Vector on los ID de cliente"
   ]
  },
  {
   "cell_type": "code",
   "execution_count": 9,
   "metadata": {},
   "outputs": [
    {
     "name": "stdout",
     "output_type": "stream",
     "text": [
      "Matriz guardada exitosamente como X_CDT.npy\n",
      "Matriz guardada exitosamente como y_CDT.npy\n",
      "Matriz guardada exitosamente como Etiqueta_cliente.npy\n"
     ]
    }
   ],
   "source": [
    "# Guardar Matriz para modelado\n",
    "M = CargaDatos(carpeta='Archivos')\n",
    "M.guardar_matriz_numpy(nombre_matriz='X_CDT',vectores=X)\n",
    "M.guardar_matriz_numpy(nombre_matriz='y_CDT',vectores=y)\n",
    "M.guardar_matriz_numpy(nombre_matriz='Etiqueta_cliente',vectores=e)"
   ]
  }
 ],
 "metadata": {
  "kernelspec": {
   "display_name": "venv",
   "language": "python",
   "name": "python3"
  },
  "language_info": {
   "codemirror_mode": {
    "name": "ipython",
    "version": 3
   },
   "file_extension": ".py",
   "mimetype": "text/x-python",
   "name": "python",
   "nbconvert_exporter": "python",
   "pygments_lexer": "ipython3",
   "version": "3.12.1"
  }
 },
 "nbformat": 4,
 "nbformat_minor": 2
}
