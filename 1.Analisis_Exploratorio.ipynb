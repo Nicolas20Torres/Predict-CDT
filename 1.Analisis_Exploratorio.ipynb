{
 "cells": [
  {
   "cell_type": "markdown",
   "metadata": {},
   "source": [
    "# Prediccion Contratacion CDT\n",
    "## Descripcion de los datos\n",
    "\n",
    "### Datos de la tabla campaing_inf \n",
    "- En terminos generales esta tabla trata sobre datos historicos de campañas que determinan algunas dimenciones relevantes, en donde el cliente decide tomar o no un CDT *(Certificado de Depocito a Termino Fijo)* la columna *Y* determina 0 para no 1 para si\n",
    "\n",
    "*Los datos aqui suministrados se trabajan basado en un analisis general de los datos, dado que no se conoce a profundidad el origen ni el contexto de los datos*\n",
    "*La granularidad de los datos esta a nivel de cliente, lo que indica que el dataset esta contanto la historico por cada cliente en la campaña*\n",
    "\n",
    "| #  | campo                  | descripción                                                                                              | tipo datos Original | Tipo de datos Preprocesamiento |\n",
    "|----|------------------------|----------------------------------------------------------------------------------------------------------|---------------------|--------------------------------|\n",
    "| 1  | ID                     | Identificación única de cada cliente en la base de datos                                                | INTEGER             | INTEGER                        |\n",
    "| 2  | mora                   | Indica si el cliente estaba en mora (por ejemplo, 'yes' o 'no')                                         | TEXT                | INTEGER                        |\n",
    "| 3  | Vivienda               | Indica si el cliente tiene (si) o no (no) vivienda propia                                               | TEXT                | INTEGER                        |\n",
    "| 4  | Consumo                 | Indica si el cliente tiene (si) o no (no) un producto de consumo                                        | TEXT                | INTEGER                        |\n",
    "| 5  | Mes                    | Nombre del mes en el que se realizó la campaña (por ejemplo, 'mayo')                                    | TEXT                | INTEGER                        |\n",
    "| 6  | Dia                    | Nombre del día de la semana en que se realizó la campaña (por ejemplo, 'lunes')                         | TEXT                | INTEGER                        |\n",
    "| 7  | Campana                | Número de identificación de la campaña específica                                                       | INTEGER             | INTEGER                        |\n",
    "| 8  | Dias_Ultima_Camp       | Número de días transcurridos desde la última campaña realizada                                         | INTEGER             | INTEGER                        |\n",
    "| 9  | No_Contactos            | Número total de contactos realizados con el cliente                                                     | INTEGER             | INTEGER                        |\n",
    "| 10 | Resultado_Anterior     | Resultado de la campaña anterior: si el cliente fue contactado (1) o no (0)                              | TEXT                | INTEGER                        |\n",
    "| 11 | emp_var_rate           | Tasa de variación del empleo: el cambio porcentual en el número de empleos en el período actual            | FLOAT                | FLOAT                           |\n",
    "| 12 | cons_price_idx         | Índice de precios al consumidor: medida del costo de vida que refleja los cambios en los precios          | FLOAT                | FLOAT                           |\n",
    "| 13 | cons_conf_idx          | Índice de confianza del consumidor: medida de la confianza del consumidor en la economía                  | FLOAT                | FLOAT                           |\n",
    "| 14 | euribor3m              | Tasa Euribor a 3 meses: tasa de interés interbancaria a 3 meses en la zona euro                           | FLOAT                | FLOAT                           |\n",
    "| 15 | nr_employed            | Número total de empleados en la región o país                                                               | FLOAT                | FLOAT                           |\n",
    "| 16 | y                      | Variable objetivo: indica si el cliente aceptó (1) o no (0) la oferta de CDT                              | INTEGER             | INTEGER                        |\n",
    "\n"
   ]
  },
  {
   "cell_type": "code",
   "execution_count": 1,
   "metadata": {},
   "outputs": [],
   "source": [
    "# Importacion de recusos generales\n",
    "import pandas as pd\n",
    "import numpy as np\n",
    "import sqlite3\n",
    "from config.parametros import RutaDataSet as RT\n",
    "# Recursos propios\n",
    "from services.transformaciones import CargaDatos\n",
    "# Recursos de visualizacion\n",
    "import matplotlib.pyplot as plt\n",
    "import seaborn as sns\n",
    "# Preprocesamiento\n",
    "from sklearn.preprocessing import MinMaxScaler"
   ]
  },
  {
   "cell_type": "code",
   "execution_count": 2,
   "metadata": {},
   "outputs": [],
   "source": [
    "# Instancia de conexion a la base de datos SQL\n",
    "conn = sqlite3.connect(RT.DataBase)\n",
    "cursor = conn.cursor()"
   ]
  },
  {
   "cell_type": "markdown",
   "metadata": {},
   "source": [
    "# Generacion de consulta SQL para cruzar datos de Qualitative y Campanas"
   ]
  },
  {
   "cell_type": "code",
   "execution_count": 3,
   "metadata": {},
   "outputs": [],
   "source": [
    "# Join de la tabla Qualitative y Campanas\n",
    "query = \"\"\"\n",
    "    SELECT\n",
    "        c.ID,\n",
    "        c.mora,\n",
    "        c.Vivienda,\n",
    "        c.Consumo,\n",
    "        c.Mes,\n",
    "        c.Dias_Ultima_Camp,\n",
    "        c.No_Contactos,\n",
    "        c.Resultado_Anterior,\n",
    "        c.emp_var_rate,\n",
    "        c.cons_price_idx,\n",
    "        c.cons_conf_idx,\n",
    "        c.euribor3m,\n",
    "        c.nr_employed,\n",
    "        c.y,\n",
    "        q.Edad,\n",
    "        q.Tipo_Trabajo,\n",
    "        q.Estado_Civil,\n",
    "        q.Educacion,\n",
    "        q.Contacto\n",
    "    FROM Campanas AS c\n",
    "    JOIN Qualitative AS q ON c.ID = q.ID\n",
    "    WHERE y IS NOT NULL\n",
    "\"\"\"\n",
    "df = pd.read_sql_query(query,conn)\n",
    "# Nota para el desarrollo de modelo predictivo se descarta los valores en blanco de la columna predictora (y)"
   ]
  },
  {
   "cell_type": "code",
   "execution_count": 4,
   "metadata": {},
   "outputs": [],
   "source": [
    "df.to_csv(r'C:\\Users\\bi\\OneDrive - Autocom S.A\\Descargar\\CDT.txt',encoding='utf-8',sep='|')"
   ]
  },
  {
   "cell_type": "code",
   "execution_count": 5,
   "metadata": {},
   "outputs": [
    {
     "data": {
      "text/plain": [
       "(16170, 19)"
      ]
     },
     "execution_count": 5,
     "metadata": {},
     "output_type": "execute_result"
    }
   ],
   "source": [
    "df.shape"
   ]
  },
  {
   "cell_type": "markdown",
   "metadata": {},
   "source": [
    "# Analisis Exploratorio de los datos"
   ]
  },
  {
   "cell_type": "code",
   "execution_count": 6,
   "metadata": {},
   "outputs": [
    {
     "data": {
      "text/html": [
       "<div>\n",
       "<style scoped>\n",
       "    .dataframe tbody tr th:only-of-type {\n",
       "        vertical-align: middle;\n",
       "    }\n",
       "\n",
       "    .dataframe tbody tr th {\n",
       "        vertical-align: top;\n",
       "    }\n",
       "\n",
       "    .dataframe thead th {\n",
       "        text-align: right;\n",
       "    }\n",
       "</style>\n",
       "<table border=\"1\" class=\"dataframe\">\n",
       "  <thead>\n",
       "    <tr style=\"text-align: right;\">\n",
       "      <th></th>\n",
       "      <th>mora</th>\n",
       "      <th>Total</th>\n",
       "      <th>Favorables</th>\n",
       "      <th>Participacion</th>\n",
       "    </tr>\n",
       "  </thead>\n",
       "  <tbody>\n",
       "    <tr>\n",
       "      <th>0</th>\n",
       "      <td>no</td>\n",
       "      <td>18331</td>\n",
       "      <td>1693</td>\n",
       "      <td>9.235721</td>\n",
       "    </tr>\n",
       "    <tr>\n",
       "      <th>1</th>\n",
       "      <td>si</td>\n",
       "      <td>2</td>\n",
       "      <td>0</td>\n",
       "      <td>0.000000</td>\n",
       "    </tr>\n",
       "    <tr>\n",
       "      <th>2</th>\n",
       "      <td>unknown</td>\n",
       "      <td>4766</td>\n",
       "      <td>151</td>\n",
       "      <td>3.168275</td>\n",
       "    </tr>\n",
       "  </tbody>\n",
       "</table>\n",
       "</div>"
      ],
      "text/plain": [
       "      mora  Total  Favorables  Participacion\n",
       "0       no  18331        1693       9.235721\n",
       "1       si      2           0       0.000000\n",
       "2  unknown   4766         151       3.168275"
      ]
     },
     "execution_count": 6,
     "metadata": {},
     "output_type": "execute_result"
    }
   ],
   "source": [
    "# Impacto de los clientes en mora con resultados favorables para CDT\n",
    "query_mora = \"\"\"\n",
    "    SELECT \n",
    "        mora, \n",
    "        COUNT(*) AS Total, \n",
    "        SUM(CASE WHEN y=1 THEN 1 ELSE 0 END) AS Favorables\n",
    "    FROM  Campanas\n",
    "    GROUP BY mora\n",
    "\"\"\"\n",
    "df_mora = pd.read_sql_query(query_mora,conn)\n",
    "df_mora['Participacion'] = (df_mora['Favorables']/df_mora['Total'])*100\n",
    "df_mora"
   ]
  },
  {
   "cell_type": "markdown",
   "metadata": {},
   "source": [
    "*Resultado:* \n",
    "los clientes que presentan mora no optienen resulatados favorable para la adquision de un CD"
   ]
  },
  {
   "cell_type": "code",
   "execution_count": 7,
   "metadata": {},
   "outputs": [
    {
     "data": {
      "text/html": [
       "<div>\n",
       "<style scoped>\n",
       "    .dataframe tbody tr th:only-of-type {\n",
       "        vertical-align: middle;\n",
       "    }\n",
       "\n",
       "    .dataframe tbody tr th {\n",
       "        vertical-align: top;\n",
       "    }\n",
       "\n",
       "    .dataframe thead th {\n",
       "        text-align: right;\n",
       "    }\n",
       "</style>\n",
       "<table border=\"1\" class=\"dataframe\">\n",
       "  <thead>\n",
       "    <tr style=\"text-align: right;\">\n",
       "      <th></th>\n",
       "      <th>Vivienda</th>\n",
       "      <th>Total</th>\n",
       "      <th>Favorables</th>\n",
       "      <th>Participacion</th>\n",
       "    </tr>\n",
       "  </thead>\n",
       "  <tbody>\n",
       "    <tr>\n",
       "      <th>0</th>\n",
       "      <td>no</td>\n",
       "      <td>10410</td>\n",
       "      <td>800</td>\n",
       "      <td>7.684918</td>\n",
       "    </tr>\n",
       "    <tr>\n",
       "      <th>1</th>\n",
       "      <td>si</td>\n",
       "      <td>12136</td>\n",
       "      <td>1005</td>\n",
       "      <td>8.281147</td>\n",
       "    </tr>\n",
       "    <tr>\n",
       "      <th>2</th>\n",
       "      <td>unknown</td>\n",
       "      <td>553</td>\n",
       "      <td>39</td>\n",
       "      <td>7.052441</td>\n",
       "    </tr>\n",
       "  </tbody>\n",
       "</table>\n",
       "</div>"
      ],
      "text/plain": [
       "  Vivienda  Total  Favorables  Participacion\n",
       "0       no  10410         800       7.684918\n",
       "1       si  12136        1005       8.281147\n",
       "2  unknown    553          39       7.052441"
      ]
     },
     "execution_count": 7,
     "metadata": {},
     "output_type": "execute_result"
    }
   ],
   "source": [
    "# Impacto de los clientes con Vivienda con resultados favorables para CDT\n",
    "query_vivienda = \"\"\"\n",
    "    SELECT \n",
    "        Vivienda, \n",
    "        COUNT(*) AS Total, \n",
    "        SUM(CASE WHEN y=1 THEN 1 ELSE 0 END) AS Favorables\n",
    "    FROM  Campanas\n",
    "    GROUP BY Vivienda\n",
    "\"\"\"\n",
    "df_vivienda = pd.read_sql_query(query_vivienda,conn)\n",
    "df_vivienda['Participacion'] = (df_vivienda['Favorables']/df_vivienda['Total'])*100\n",
    "df_vivienda"
   ]
  },
  {
   "cell_type": "markdown",
   "metadata": {},
   "source": [
    "*Resultado:* \n",
    "Vivienda muestra no se tener mucha variacion entre los resultado si y no en el momento de la adquisicion del CDT"
   ]
  },
  {
   "cell_type": "code",
   "execution_count": 8,
   "metadata": {},
   "outputs": [
    {
     "data": {
      "text/html": [
       "<div>\n",
       "<style scoped>\n",
       "    .dataframe tbody tr th:only-of-type {\n",
       "        vertical-align: middle;\n",
       "    }\n",
       "\n",
       "    .dataframe tbody tr th {\n",
       "        vertical-align: top;\n",
       "    }\n",
       "\n",
       "    .dataframe thead th {\n",
       "        text-align: right;\n",
       "    }\n",
       "</style>\n",
       "<table border=\"1\" class=\"dataframe\">\n",
       "  <thead>\n",
       "    <tr style=\"text-align: right;\">\n",
       "      <th></th>\n",
       "      <th>Consumo</th>\n",
       "      <th>Total</th>\n",
       "      <th>Favorables</th>\n",
       "      <th>Participacion</th>\n",
       "    </tr>\n",
       "  </thead>\n",
       "  <tbody>\n",
       "    <tr>\n",
       "      <th>0</th>\n",
       "      <td>no</td>\n",
       "      <td>19062</td>\n",
       "      <td>1530</td>\n",
       "      <td>8.026440</td>\n",
       "    </tr>\n",
       "    <tr>\n",
       "      <th>1</th>\n",
       "      <td>si</td>\n",
       "      <td>3484</td>\n",
       "      <td>275</td>\n",
       "      <td>7.893226</td>\n",
       "    </tr>\n",
       "    <tr>\n",
       "      <th>2</th>\n",
       "      <td>unknown</td>\n",
       "      <td>553</td>\n",
       "      <td>39</td>\n",
       "      <td>7.052441</td>\n",
       "    </tr>\n",
       "  </tbody>\n",
       "</table>\n",
       "</div>"
      ],
      "text/plain": [
       "   Consumo  Total  Favorables  Participacion\n",
       "0       no  19062        1530       8.026440\n",
       "1       si   3484         275       7.893226\n",
       "2  unknown    553          39       7.052441"
      ]
     },
     "execution_count": 8,
     "metadata": {},
     "output_type": "execute_result"
    }
   ],
   "source": [
    "# Impacto de los clientes en mora con producto de comsumo favorables para CDT\n",
    "query_Consumo = \"\"\"\n",
    "    SELECT \n",
    "        Consumo, \n",
    "        COUNT(*) AS Total, \n",
    "        SUM(CASE WHEN y=1 THEN 1 ELSE 0 END) AS Favorables\n",
    "    FROM  Campanas\n",
    "    GROUP BY Consumo\n",
    "\"\"\"\n",
    "df_consumo = pd.read_sql_query(query_Consumo,conn)\n",
    "df_consumo['Participacion'] = (df_consumo['Favorables']/df_consumo['Total'])*100\n",
    "df_consumo"
   ]
  },
  {
   "cell_type": "markdown",
   "metadata": {},
   "source": [
    "*Resultado:* \n",
    "Consumo muestra no se tener mucha variacion entre los resultado si y no en el momento de la adquisicion del CDT"
   ]
  },
  {
   "cell_type": "code",
   "execution_count": 9,
   "metadata": {},
   "outputs": [
    {
     "data": {
      "image/png": "[encoded data removed]",
      "text/plain": [
       "<Figure size 800x600 with 2 Axes>"
      ]
     },
     "metadata": {},
     "output_type": "display_data"
    }
   ],
   "source": [
    "# Analisis de correlacion\n",
    "Columnas_correlacion = [\n",
    "    'emp_var_rate',\n",
    "    'cons_price_idx',\n",
    "    'cons_conf_idx',\n",
    "    'euribor3m',\n",
    "    'nr_employed'\n",
    "]\n",
    "datos_correlacion = df[Columnas_correlacion]\n",
    "matriz_correlacion = datos_correlacion.corr()\n",
    "# Impresion de grafico de correlacion\n",
    "plt.figure(figsize=(8,6))\n",
    "sns.heatmap(matriz_correlacion,annot=True,cmap='coolwarm',fmt='.2f',vmin=-1,vmax=1)\n",
    "plt.title('Matriz de Correlacion')\n",
    "plt.show()"
   ]
  },
  {
   "cell_type": "markdown",
   "metadata": {},
   "source": [
    "*Resultado:* \n",
    " - Los indices de correlacion entre euribor3m y nr_employed indican que la relacion interbancaria tiene un impacto en el mumero de la generacion de empleos con una correlacion de 0.79\n",
    " - Los indices de correlacion entre nr_employed y emp_var_rate presentan la correlacion mas fuertes en los datos, lo cual indica un impacto en la variacion de tasa de empleo con los empleos reportado en la region \n",
    " "
   ]
  },
  {
   "cell_type": "markdown",
   "metadata": {},
   "source": [
    "# Preprocesamiento y Normalizacion de los datos\n",
    "\n",
    "- Normalizacion entre 0 y 1 = [Dias_Ultima_Camp,No_Contactos,emp_var_rate,cons_price_idx,cons_conf_idx,euribor3m,nr_employed,Edad]\n",
    "- one-hot encoding = [mora,Vivienda,Consumo,Resultado_Anterior,Tipo_Trabajo,Estado_Civil,Educacion,Contacto]"
   ]
  },
  {
   "cell_type": "code",
   "execution_count": 10,
   "metadata": {},
   "outputs": [],
   "source": [
    "# Generar una copia de dataset \n",
    "df_original = df.copy()"
   ]
  },
  {
   "cell_type": "code",
   "execution_count": 11,
   "metadata": {},
   "outputs": [],
   "source": [
    "# Definicion de variables\n",
    "list_min_max = [\n",
    "    'Dias_Ultima_Camp',\n",
    "    'No_Contactos',\n",
    "    'emp_var_rate',\n",
    "    'cons_price_idx',\n",
    "    'cons_conf_idx',\n",
    "    'euribor3m',\n",
    "    'nr_employed',\n",
    "    'Edad'\n",
    "]\n",
    "list_get_dummies = [\n",
    "    'mora',\n",
    "    'Vivienda',\n",
    "    'Consumo',\n",
    "    'Mes',\n",
    "    'Resultado_Anterior',\n",
    "    'Tipo_Trabajo',\n",
    "    'Estado_Civil',\n",
    "    'Educacion',\n",
    "    'Contacto'\n",
    "]"
   ]
  },
  {
   "cell_type": "code",
   "execution_count": 12,
   "metadata": {},
   "outputs": [],
   "source": [
    "# Normalizacion de Dataset en columnas especificadas en list_min_max\n",
    "scaler = MinMaxScaler()\n",
    "df[list_min_max] = scaler.fit_transform(df[list_min_max])"
   ]
  },
  {
   "cell_type": "code",
   "execution_count": 13,
   "metadata": {},
   "outputs": [],
   "source": [
    "import warnings\n",
    "warnings.filterwarnings('ignore', category=FutureWarning)\n",
    "# Generar columnas usando metodo one-hot encoding a columnas detalladas en list_get_dummies\n",
    "df_matriz = pd.get_dummies(df,columns=list_get_dummies)\n",
    "col_bool = df_matriz.iloc[:,-50:] \n",
    "df_matriz.iloc[:,-50:] = col_bool.astype(int)"
   ]
  },
  {
   "cell_type": "code",
   "execution_count": 14,
   "metadata": {},
   "outputs": [],
   "source": [
    "# Defincion de variables (x) y (y)\n",
    "X_matriz = df_matriz.drop(columns=['ID','y'],axis=1)\n",
    "y_matriz = df_matriz['y']\n",
    "# Generarar Matricez vectoriales\n",
    "X = X_matriz.to_numpy()\n",
    "y = y_matriz.to_numpy()"
   ]
  }
 ],
 "metadata": {
  "kernelspec": {
   "display_name": "venv",
   "language": "python",
   "name": "python3"
  },
  "language_info": {
   "codemirror_mode": {
    "name": "ipython",
    "version": 3
   },
   "file_extension": ".py",
   "mimetype": "text/x-python",
   "name": "python",
   "nbconvert_exporter": "python",
   "pygments_lexer": "ipython3",
   "version": "3.12.1"
  }
 },
 "nbformat": 4,
 "nbformat_minor": 2
}
